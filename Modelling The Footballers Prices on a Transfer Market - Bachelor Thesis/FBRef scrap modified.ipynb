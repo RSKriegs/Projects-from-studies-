{
 "cells": [
  {
   "cell_type": "code",
   "execution_count": 2,
   "metadata": {},
   "outputs": [],
   "source": [
    "import requests\n",
    "from bs4 import BeautifulSoup\n",
    "import pandas as pd\n",
    "import re\n",
    "import sys, getopt\n",
    "import csv\n",
    "    \n",
    "    "
   ]
  },
  {
   "cell_type": "code",
   "execution_count": 5,
   "metadata": {},
   "outputs": [],
   "source": [
    "url=\"https://fbref.com/en/comps/9/3232/2019-2020-Premier-League-Stats\"\n",
    "res = requests.get(url)\n",
    "## The next two lines get around the issue with comments breaking the parsing.\n",
    "comm = re.compile(\"<!--|-->\")\n",
    "soup = BeautifulSoup(comm.sub(\"\",res.text),'lxml')"
   ]
  },
  {
   "cell_type": "code",
   "execution_count": 7,
   "metadata": {},
   "outputs": [
    {
     "data": {
      "text/plain": [
       "<tbody>\n",
       "<tr><th class=\"right qualifier1\" csk=\"1\" data-stat=\"rank\" scope=\"row\">1</th><td class=\"left\" data-stat=\"squad\"><img alt=\"Club Crest\" height=\"13\" itemscope=\"image\" src=\"https://d2p3bygnnzw9w3.cloudfront.net/req/202012013/tlogo/fb/mini.822bd0ba.png\" style=\"vertical-align:text-top\" width=\"13\"/> <a href=\"/en/squads/822bd0ba/2019-2020/Liverpool-Stats\">Liverpool</a></td><td class=\"right\" data-stat=\"games\">38</td><td class=\"right\" data-stat=\"wins\">32</td><td class=\"right\" data-stat=\"draws\">3</td><td class=\"right\" data-stat=\"losses\">3</td><td class=\"right\" data-stat=\"goals_for\">85</td><td class=\"right\" data-stat=\"goals_against\">33</td><td class=\"right\" data-stat=\"goal_diff\">+52</td><td class=\"right\" data-stat=\"points\">99</td><td class=\"right\" data-stat=\"xg_for\">71.5</td><td class=\"right\" data-stat=\"xg_against\">40.0</td><td class=\"right\" data-stat=\"xg_diff\">+31.5</td><td class=\"right\" data-stat=\"xg_diff_per90\">+0.83</td><td class=\"right\" csk=\"41955\" data-stat=\"attendance_per_g\">41,955</td><td class=\"right\" csk=\"19\" data-stat=\"top_team_scorers\"><a href=\"/en/players/e342ad68/Mohamed-Salah\">Mohamed Salah</a> - <span>19</span></td><td class=\"right\" data-stat=\"top_keeper\"><a href=\"/en/players/7a2e46a8/Alisson\">Alisson</a></td><td class=\"left\" data-stat=\"notes\">→ UEFA Champions League via league finish</td></tr>\n",
       "<tr><th class=\"right qualifier1\" csk=\"2\" data-stat=\"rank\" scope=\"row\">2</th><td class=\"left\" data-stat=\"squad\"><img alt=\"Club Crest\" height=\"13\" itemscope=\"image\" src=\"https://d2p3bygnnzw9w3.cloudfront.net/req/202012013/tlogo/fb/mini.b8fd03ef.png\" style=\"vertical-align:text-top\" width=\"13\"/> <a href=\"/en/squads/b8fd03ef/2019-2020/Manchester-City-Stats\">Manchester City</a></td><td class=\"right\" data-stat=\"games\">38</td><td class=\"right\" data-stat=\"wins\">26</td><td class=\"right\" data-stat=\"draws\">3</td><td class=\"right\" data-stat=\"losses\">9</td><td class=\"right\" data-stat=\"goals_for\">102</td><td class=\"right\" data-stat=\"goals_against\">35</td><td class=\"right\" data-stat=\"goal_diff\">+67</td><td class=\"right\" data-stat=\"points\">81</td><td class=\"right\" data-stat=\"xg_for\">93.0</td><td class=\"right\" data-stat=\"xg_against\">34.7</td><td class=\"right\" data-stat=\"xg_diff\">+58.3</td><td class=\"right\" data-stat=\"xg_diff_per90\">+1.53</td><td class=\"right\" csk=\"37097\" data-stat=\"attendance_per_g\">37,097</td><td class=\"right\" csk=\"20\" data-stat=\"top_team_scorers\"><a href=\"/en/players/b400bde0/Raheem-Sterling\">Raheem Sterling</a> - <span>20</span></td><td class=\"right\" data-stat=\"top_keeper\"><a href=\"/en/players/3bb7b8b4/Ederson\">Ederson</a></td><td class=\"left\" data-stat=\"notes\">→ UEFA Champions League via league finish</td></tr>\n",
       "<tr><th class=\"right qualifier1\" csk=\"3\" data-stat=\"rank\" scope=\"row\">3</th><td class=\"left\" data-stat=\"squad\"><img alt=\"Club Crest\" height=\"13\" itemscope=\"image\" src=\"https://d2p3bygnnzw9w3.cloudfront.net/req/202012013/tlogo/fb/mini.19538871.png\" style=\"vertical-align:text-top\" width=\"13\"/> <a href=\"/en/squads/19538871/2019-2020/Manchester-United-Stats\">Manchester Utd</a></td><td class=\"right\" data-stat=\"games\">38</td><td class=\"right\" data-stat=\"wins\">18</td><td class=\"right\" data-stat=\"draws\">12</td><td class=\"right\" data-stat=\"losses\">8</td><td class=\"right\" data-stat=\"goals_for\">66</td><td class=\"right\" data-stat=\"goals_against\">36</td><td class=\"right\" data-stat=\"goal_diff\">+30</td><td class=\"right\" data-stat=\"points\">66</td><td class=\"right\" data-stat=\"xg_for\">59.4</td><td class=\"right\" data-stat=\"xg_against\">37.4</td><td class=\"right\" data-stat=\"xg_diff\">+22.0</td><td class=\"right\" data-stat=\"xg_diff_per90\">+0.58</td><td class=\"right\" csk=\"57415\" data-stat=\"attendance_per_g\">57,415</td><td class=\"right\" csk=\"17\" data-stat=\"top_team_scorers\"><a href=\"/en/players/a1d5bd30/Marcus-Rashford\">Marcus Rashford</a>, <a href=\"/en/players/8b788c01/Anthony-Martial\">Anthony Martial</a> - <span>17</span></td><td class=\"right\" data-stat=\"top_keeper\"><a href=\"/en/players/7ba6d84e/David-de-Gea\">David de Gea</a></td><td class=\"left\" data-stat=\"notes\">→ UEFA Champions League via league finish</td></tr>\n",
       "<tr><th class=\"right qualifier1\" csk=\"4\" data-stat=\"rank\" scope=\"row\">4</th><td class=\"left\" data-stat=\"squad\"><img alt=\"Club Crest\" height=\"13\" itemscope=\"image\" src=\"https://d2p3bygnnzw9w3.cloudfront.net/req/202012013/tlogo/fb/mini.cff3d9bb.png\" style=\"vertical-align:text-top\" width=\"13\"/> <a href=\"/en/squads/cff3d9bb/2019-2020/Chelsea-Stats\">Chelsea</a></td><td class=\"right\" data-stat=\"games\">38</td><td class=\"right\" data-stat=\"wins\">20</td><td class=\"right\" data-stat=\"draws\">6</td><td class=\"right\" data-stat=\"losses\">12</td><td class=\"right\" data-stat=\"goals_for\">69</td><td class=\"right\" data-stat=\"goals_against\">54</td><td class=\"right\" data-stat=\"goal_diff\">+15</td><td class=\"right\" data-stat=\"points\">66</td><td class=\"right\" data-stat=\"xg_for\">66.6</td><td class=\"right\" data-stat=\"xg_against\">37.9</td><td class=\"right\" data-stat=\"xg_diff\">+28.6</td><td class=\"right\" data-stat=\"xg_diff_per90\">+0.75</td><td class=\"right\" csk=\"32023\" data-stat=\"attendance_per_g\">32,023</td><td class=\"right\" csk=\"15\" data-stat=\"top_team_scorers\"><a href=\"/en/players/f586779e/Tammy-Abraham\">Tammy Abraham</a> - <span>15</span></td><td class=\"right\" data-stat=\"top_keeper\"><a href=\"/en/players/28d596a0/Kepa-Arrizabalaga\">Kepa Arrizabalaga</a></td><td class=\"left\" data-stat=\"notes\">→ UEFA Champions League via league finish</td></tr>\n",
       "<tr><th class=\"right qualifier2\" csk=\"5\" data-stat=\"rank\" scope=\"row\">5</th><td class=\"left\" data-stat=\"squad\"><img alt=\"Club Crest\" height=\"13\" itemscope=\"image\" src=\"https://d2p3bygnnzw9w3.cloudfront.net/req/202012013/tlogo/fb/mini.a2d435b3.png\" style=\"vertical-align:text-top\" width=\"13\"/> <a href=\"/en/squads/a2d435b3/2019-2020/Leicester-City-Stats\">Leicester City</a></td><td class=\"right\" data-stat=\"games\">38</td><td class=\"right\" data-stat=\"wins\">18</td><td class=\"right\" data-stat=\"draws\">8</td><td class=\"right\" data-stat=\"losses\">12</td><td class=\"right\" data-stat=\"goals_for\">67</td><td class=\"right\" data-stat=\"goals_against\">41</td><td class=\"right\" data-stat=\"goal_diff\">+26</td><td class=\"right\" data-stat=\"points\">62</td><td class=\"right\" data-stat=\"xg_for\">61.6</td><td class=\"right\" data-stat=\"xg_against\">44.5</td><td class=\"right\" data-stat=\"xg_diff\">+17.1</td><td class=\"right\" data-stat=\"xg_diff_per90\">+0.45</td><td class=\"right\" csk=\"25312\" data-stat=\"attendance_per_g\">25,312</td><td class=\"right\" csk=\"23\" data-stat=\"top_team_scorers\"><a href=\"/en/players/45963054/Jamie-Vardy\">Jamie Vardy</a> - <span>23</span></td><td class=\"right\" data-stat=\"top_keeper\"><a href=\"/en/players/53af52f3/Kasper-Schmeichel\">Kasper Schmeichel</a></td><td class=\"left\" data-stat=\"notes\">→ UEFA Europa League via league finish</td></tr>\n",
       "<tr><th class=\"right qualifier2\" csk=\"6\" data-stat=\"rank\" scope=\"row\">6</th><td class=\"left\" data-stat=\"squad\"><img alt=\"Club Crest\" height=\"13\" itemscope=\"image\" src=\"https://d2p3bygnnzw9w3.cloudfront.net/req/202012013/tlogo/fb/mini.361ca564.png\" style=\"vertical-align:text-top\" width=\"13\"/> <a href=\"/en/squads/361ca564/2019-2020/Tottenham-Hotspur-Stats\">Tottenham</a></td><td class=\"right\" data-stat=\"games\">38</td><td class=\"right\" data-stat=\"wins\">16</td><td class=\"right\" data-stat=\"draws\">11</td><td class=\"right\" data-stat=\"losses\">11</td><td class=\"right\" data-stat=\"goals_for\">61</td><td class=\"right\" data-stat=\"goals_against\">47</td><td class=\"right\" data-stat=\"goal_diff\">+14</td><td class=\"right\" data-stat=\"points\">59</td><td class=\"right\" data-stat=\"xg_for\">46.1</td><td class=\"right\" data-stat=\"xg_against\">52.0</td><td class=\"right\" data-stat=\"xg_diff\">-6.0</td><td class=\"right\" data-stat=\"xg_diff_per90\">-0.16</td><td class=\"right\" csk=\"43757\" data-stat=\"attendance_per_g\">43,757</td><td class=\"right\" csk=\"18\" data-stat=\"top_team_scorers\"><a href=\"/en/players/21a66f6a/Harry-Kane\">Harry Kane</a> - <span>18</span></td><td class=\"right\" data-stat=\"top_keeper\"><a href=\"/en/players/8f62b6ee/Hugo-Lloris\">Hugo Lloris</a></td><td class=\"left\" data-stat=\"notes\">→ UEFA Europa League via league finish <sup><span class=\"tooltip\" tip=\"Since League Cup winners Manchester City qualified for Champions League, the Europa League berth awarded to the League Cup winners was awarded based on league position.\">1</span></sup></td></tr>\n",
       "<tr><th class=\"right\" csk=\"7\" data-stat=\"rank\" scope=\"row\">7</th><td class=\"left\" data-stat=\"squad\"><img alt=\"Club Crest\" height=\"13\" itemscope=\"image\" src=\"https://d2p3bygnnzw9w3.cloudfront.net/req/202012013/tlogo/fb/mini.8cec06e1.png\" style=\"vertical-align:text-top\" width=\"13\"/> <a href=\"/en/squads/8cec06e1/2019-2020/Wolverhampton-Wanderers-Stats\">Wolves</a></td><td class=\"right\" data-stat=\"games\">38</td><td class=\"right\" data-stat=\"wins\">15</td><td class=\"right\" data-stat=\"draws\">14</td><td class=\"right\" data-stat=\"losses\">9</td><td class=\"right\" data-stat=\"goals_for\">51</td><td class=\"right\" data-stat=\"goals_against\">40</td><td class=\"right\" data-stat=\"goal_diff\">+11</td><td class=\"right\" data-stat=\"points\">59</td><td class=\"right\" data-stat=\"xg_for\">47.1</td><td class=\"right\" data-stat=\"xg_against\">34.8</td><td class=\"right\" data-stat=\"xg_diff\">+12.3</td><td class=\"right\" data-stat=\"xg_diff_per90\">+0.32</td><td class=\"right\" csk=\"24758\" data-stat=\"attendance_per_g\">24,758</td><td class=\"right\" csk=\"17\" data-stat=\"top_team_scorers\"><a href=\"/en/players/b561db50/Raul-Jimenez\">Raúl Jiménez</a> - <span>17</span></td><td class=\"right\" data-stat=\"top_keeper\"><a href=\"/en/players/79b0d6a0/Rui-Patricio\">Rui Patrício</a></td><td class=\"left iz\" data-stat=\"notes\"></td></tr>\n",
       "<tr><th class=\"right qualifier2\" csk=\"8\" data-stat=\"rank\" scope=\"row\">8</th><td class=\"left\" data-stat=\"squad\"><img alt=\"Club Crest\" height=\"13\" itemscope=\"image\" src=\"https://d2p3bygnnzw9w3.cloudfront.net/req/202012013/tlogo/fb/mini.18bb7c10.png\" style=\"vertical-align:text-top\" width=\"13\"/> <a href=\"/en/squads/18bb7c10/2019-2020/Arsenal-Stats\">Arsenal</a></td><td class=\"right\" data-stat=\"games\">38</td><td class=\"right\" data-stat=\"wins\">14</td><td class=\"right\" data-stat=\"draws\">14</td><td class=\"right\" data-stat=\"losses\">10</td><td class=\"right\" data-stat=\"goals_for\">56</td><td class=\"right\" data-stat=\"goals_against\">48</td><td class=\"right\" data-stat=\"goal_diff\">+8</td><td class=\"right\" data-stat=\"points\">56</td><td class=\"right\" data-stat=\"xg_for\">49.2</td><td class=\"right\" data-stat=\"xg_against\">56.6</td><td class=\"right\" data-stat=\"xg_diff\">-7.3</td><td class=\"right\" data-stat=\"xg_diff_per90\">-0.19</td><td class=\"right\" csk=\"47589\" data-stat=\"attendance_per_g\">47,589</td><td class=\"right\" csk=\"22\" data-stat=\"top_team_scorers\"><a href=\"/en/players/d5dd5f1f/Pierre-Emerick-Aubameyang\">Pierre-Emerick Aubameyang</a> - <span>22</span></td><td class=\"right\" data-stat=\"top_keeper\"><a href=\"/en/players/2628fd2b/Bernd-Leno\">Bernd Leno</a></td><td class=\"left\" data-stat=\"notes\">→ UEFA Europa League via cup win <sup><span class=\"tooltip\" tip=\"Arsenal qualified for a Europa League group stage berth by virtue of winning the FA Cup.\">2</span></sup></td></tr>\n",
       "<tr><th class=\"right\" csk=\"9\" data-stat=\"rank\" scope=\"row\">9</th><td class=\"left\" data-stat=\"squad\"><img alt=\"Club Crest\" height=\"13\" itemscope=\"image\" src=\"https://d2p3bygnnzw9w3.cloudfront.net/req/202012013/tlogo/fb/mini.1df6b87e.png\" style=\"vertical-align:text-top\" width=\"13\"/> <a href=\"/en/squads/1df6b87e/2019-2020/Sheffield-United-Stats\">Sheffield Utd</a></td><td class=\"right\" data-stat=\"games\">38</td><td class=\"right\" data-stat=\"wins\">14</td><td class=\"right\" data-stat=\"draws\">12</td><td class=\"right\" data-stat=\"losses\">12</td><td class=\"right\" data-stat=\"goals_for\">39</td><td class=\"right\" data-stat=\"goals_against\">39</td><td class=\"right iz\" data-stat=\"goal_diff\">0</td><td class=\"right\" data-stat=\"points\">54</td><td class=\"right\" data-stat=\"xg_for\">41.5</td><td class=\"right\" data-stat=\"xg_against\">47.9</td><td class=\"right\" data-stat=\"xg_diff\">-6.4</td><td class=\"right\" data-stat=\"xg_diff_per90\">-0.17</td><td class=\"right\" csk=\"24370\" data-stat=\"attendance_per_g\">24,370</td><td class=\"right\" csk=\"6\" data-stat=\"top_team_scorers\"><a href=\"/en/players/78b8ac63/Oliver-McBurnie\">Oliver McBurnie</a>, <a href=\"/en/players/d9cfca3d/Lys-Mousset\">Lys Mousset</a> - <span>6</span></td><td class=\"right\" data-stat=\"top_keeper\"><a href=\"/en/players/e5a76dfe/Dean-Henderson\">Dean Henderson</a></td><td class=\"left iz\" data-stat=\"notes\"></td></tr>\n",
       "<tr><th class=\"right\" csk=\"10\" data-stat=\"rank\" scope=\"row\">10</th><td class=\"left\" data-stat=\"squad\"><img alt=\"Club Crest\" height=\"13\" itemscope=\"image\" src=\"https://d2p3bygnnzw9w3.cloudfront.net/req/202012013/tlogo/fb/mini.943e8050.png\" style=\"vertical-align:text-top\" width=\"13\"/> <a href=\"/en/squads/943e8050/2019-2020/Burnley-Stats\">Burnley</a></td><td class=\"right\" data-stat=\"games\">38</td><td class=\"right\" data-stat=\"wins\">15</td><td class=\"right\" data-stat=\"draws\">9</td><td class=\"right\" data-stat=\"losses\">14</td><td class=\"right\" data-stat=\"goals_for\">43</td><td class=\"right\" data-stat=\"goals_against\">50</td><td class=\"right\" data-stat=\"goal_diff\">-7</td><td class=\"right\" data-stat=\"points\">54</td><td class=\"right\" data-stat=\"xg_for\">43.9</td><td class=\"right\" data-stat=\"xg_against\">48.3</td><td class=\"right\" data-stat=\"xg_diff\">-4.4</td><td class=\"right\" data-stat=\"xg_diff_per90\">-0.12</td><td class=\"right\" csk=\"15995\" data-stat=\"attendance_per_g\">15,995</td><td class=\"right\" csk=\"14\" data-stat=\"top_team_scorers\"><a href=\"/en/players/4e9a0555/Chris-Wood\">Chris Wood</a> - <span>14</span></td><td class=\"right\" data-stat=\"top_keeper\"><a href=\"/en/players/4b40d9ca/Nick-Pope\">Nick Pope</a></td><td class=\"left iz\" data-stat=\"notes\"></td></tr>\n",
       "<tr><th class=\"right\" csk=\"11\" data-stat=\"rank\" scope=\"row\">11</th><td class=\"left\" data-stat=\"squad\"><img alt=\"Club Crest\" height=\"13\" itemscope=\"image\" src=\"https://d2p3bygnnzw9w3.cloudfront.net/req/202012013/tlogo/fb/mini.33c895d4.png\" style=\"vertical-align:text-top\" width=\"13\"/> <a href=\"/en/squads/33c895d4/2019-2020/Southampton-Stats\">Southampton</a></td><td class=\"right\" data-stat=\"games\">38</td><td class=\"right\" data-stat=\"wins\">15</td><td class=\"right\" data-stat=\"draws\">7</td><td class=\"right\" data-stat=\"losses\">16</td><td class=\"right\" data-stat=\"goals_for\">51</td><td class=\"right\" data-stat=\"goals_against\">60</td><td class=\"right\" data-stat=\"goal_diff\">-9</td><td class=\"right\" data-stat=\"points\">52</td><td class=\"right\" data-stat=\"xg_for\">53.9</td><td class=\"right\" data-stat=\"xg_against\">53.1</td><td class=\"right\" data-stat=\"xg_diff\">+0.9</td><td class=\"right\" data-stat=\"xg_diff_per90\">+0.02</td><td class=\"right\" csk=\"23428\" data-stat=\"attendance_per_g\">23,428</td><td class=\"right\" csk=\"22\" data-stat=\"top_team_scorers\"><a href=\"/en/players/07802f7f/Danny-Ings\">Danny Ings</a> - <span>22</span></td><td class=\"right\" data-stat=\"top_keeper\"><a href=\"/en/players/36c2ca73/Alex-McCarthy\">Alex McCarthy</a></td><td class=\"left iz\" data-stat=\"notes\"></td></tr>\n",
       "<tr><th class=\"right\" csk=\"12\" data-stat=\"rank\" scope=\"row\">12</th><td class=\"left\" data-stat=\"squad\"><img alt=\"Club Crest\" height=\"13\" itemscope=\"image\" src=\"https://d2p3bygnnzw9w3.cloudfront.net/req/202012013/tlogo/fb/mini.d3fd31cc.png\" style=\"vertical-align:text-top\" width=\"13\"/> <a href=\"/en/squads/d3fd31cc/2019-2020/Everton-Stats\">Everton</a></td><td class=\"right\" data-stat=\"games\">38</td><td class=\"right\" data-stat=\"wins\">13</td><td class=\"right\" data-stat=\"draws\">10</td><td class=\"right\" data-stat=\"losses\">15</td><td class=\"right\" data-stat=\"goals_for\">44</td><td class=\"right\" data-stat=\"goals_against\">56</td><td class=\"right\" data-stat=\"goal_diff\">-12</td><td class=\"right\" data-stat=\"points\">49</td><td class=\"right\" data-stat=\"xg_for\">49.3</td><td class=\"right\" data-stat=\"xg_against\">48.4</td><td class=\"right\" data-stat=\"xg_diff\">+0.9</td><td class=\"right\" data-stat=\"xg_diff_per90\">+0.02</td><td class=\"right\" csk=\"28848\" data-stat=\"attendance_per_g\">28,848</td><td class=\"right\" csk=\"13\" data-stat=\"top_team_scorers\"><a href=\"/en/players/59e6e5bf/Dominic-Calvert-Lewin\">Dominic Calvert-Lewin</a>, <a href=\"/en/players/fa031b34/Richarlison\">Richarlison</a> - <span>13</span></td><td class=\"right\" data-stat=\"top_keeper\"><a href=\"/en/players/4806ec67/Jordan-Pickford\">Jordan Pickford</a></td><td class=\"left iz\" data-stat=\"notes\"></td></tr>\n",
       "<tr><th class=\"right\" csk=\"13\" data-stat=\"rank\" scope=\"row\">13</th><td class=\"left\" data-stat=\"squad\"><img alt=\"Club Crest\" height=\"13\" itemscope=\"image\" src=\"https://d2p3bygnnzw9w3.cloudfront.net/req/202012013/tlogo/fb/mini.b2b47a98.png\" style=\"vertical-align:text-top\" width=\"13\"/> <a href=\"/en/squads/b2b47a98/2019-2020/Newcastle-United-Stats\">Newcastle Utd</a></td><td class=\"right\" data-stat=\"games\">38</td><td class=\"right\" data-stat=\"wins\">11</td><td class=\"right\" data-stat=\"draws\">11</td><td class=\"right\" data-stat=\"losses\">16</td><td class=\"right\" data-stat=\"goals_for\">38</td><td class=\"right\" data-stat=\"goals_against\">58</td><td class=\"right\" data-stat=\"goal_diff\">-20</td><td class=\"right\" data-stat=\"points\">44</td><td class=\"right\" data-stat=\"xg_for\">33.1</td><td class=\"right\" data-stat=\"xg_against\">58.3</td><td class=\"right\" data-stat=\"xg_diff\">-25.2</td><td class=\"right\" data-stat=\"xg_diff_per90\">-0.66</td><td class=\"right\" csk=\"35551\" data-stat=\"attendance_per_g\">35,551</td><td class=\"right\" csk=\"6\" data-stat=\"top_team_scorers\"><a href=\"/en/players/3727dd3c/Jonjo-Shelvey\">Jonjo Shelvey</a> - <span>6</span></td><td class=\"right\" data-stat=\"top_keeper\"><a href=\"/en/players/3a949a25/Martin-Dubravka\">Martin Dúbravka</a></td><td class=\"left iz\" data-stat=\"notes\"></td></tr>\n",
       "<tr><th class=\"right\" csk=\"14\" data-stat=\"rank\" scope=\"row\">14</th><td class=\"left\" data-stat=\"squad\"><img alt=\"Club Crest\" height=\"13\" itemscope=\"image\" src=\"https://d2p3bygnnzw9w3.cloudfront.net/req/202012013/tlogo/fb/mini.47c64c55.png\" style=\"vertical-align:text-top\" width=\"13\"/> <a href=\"/en/squads/47c64c55/2019-2020/Crystal-Palace-Stats\">Crystal Palace</a></td><td class=\"right\" data-stat=\"games\">38</td><td class=\"right\" data-stat=\"wins\">11</td><td class=\"right\" data-stat=\"draws\">10</td><td class=\"right\" data-stat=\"losses\">17</td><td class=\"right\" data-stat=\"goals_for\">31</td><td class=\"right\" data-stat=\"goals_against\">50</td><td class=\"right\" data-stat=\"goal_diff\">-19</td><td class=\"right\" data-stat=\"points\">43</td><td class=\"right\" data-stat=\"xg_for\">34.0</td><td class=\"right\" data-stat=\"xg_against\">51.3</td><td class=\"right\" data-stat=\"xg_diff\">-17.3</td><td class=\"right\" data-stat=\"xg_diff_per90\">-0.46</td><td class=\"right\" csk=\"19784\" data-stat=\"attendance_per_g\">19,784</td><td class=\"right\" csk=\"9\" data-stat=\"top_team_scorers\"><a href=\"/en/players/da052c14/Jordan-Ayew\">Jordan Ayew</a> - <span>9</span></td><td class=\"right\" data-stat=\"top_keeper\"><a href=\"/en/players/ab13a5aa/Vicente-Guaita\">Vicente Guaita</a></td><td class=\"left iz\" data-stat=\"notes\"></td></tr>\n",
       "<tr><th class=\"right\" csk=\"15\" data-stat=\"rank\" scope=\"row\">15</th><td class=\"left\" data-stat=\"squad\"><img alt=\"Club Crest\" height=\"13\" itemscope=\"image\" src=\"https://d2p3bygnnzw9w3.cloudfront.net/req/202012013/tlogo/fb/mini.d07537b9.png\" style=\"vertical-align:text-top\" width=\"13\"/> <a href=\"/en/squads/d07537b9/2019-2020/Brighton-and-Hove-Albion-Stats\">Brighton</a></td><td class=\"right\" data-stat=\"games\">38</td><td class=\"right\" data-stat=\"wins\">9</td><td class=\"right\" data-stat=\"draws\">14</td><td class=\"right\" data-stat=\"losses\">15</td><td class=\"right\" data-stat=\"goals_for\">39</td><td class=\"right\" data-stat=\"goals_against\">54</td><td class=\"right\" data-stat=\"goal_diff\">-15</td><td class=\"right\" data-stat=\"points\">41</td><td class=\"right\" data-stat=\"xg_for\">41.2</td><td class=\"right\" data-stat=\"xg_against\">54.5</td><td class=\"right\" data-stat=\"xg_diff\">-13.3</td><td class=\"right\" data-stat=\"xg_diff_per90\">-0.35</td><td class=\"right\" csk=\"22369\" data-stat=\"attendance_per_g\">22,369</td><td class=\"right\" csk=\"10\" data-stat=\"top_team_scorers\"><a href=\"/en/players/4bcf39f6/Neal-Maupay\">Neal Maupay</a> - <span>10</span></td><td class=\"right\" data-stat=\"top_keeper\"><a href=\"/en/players/4535e4bb/Mathew-Ryan\">Mathew Ryan</a></td><td class=\"left iz\" data-stat=\"notes\"></td></tr>\n",
       "<tr><th class=\"right\" csk=\"16\" data-stat=\"rank\" scope=\"row\">16</th><td class=\"left\" data-stat=\"squad\"><img alt=\"Club Crest\" height=\"13\" itemscope=\"image\" src=\"https://d2p3bygnnzw9w3.cloudfront.net/req/202012013/tlogo/fb/mini.7c21e445.png\" style=\"vertical-align:text-top\" width=\"13\"/> <a href=\"/en/squads/7c21e445/2019-2020/West-Ham-United-Stats\">West Ham</a></td><td class=\"right\" data-stat=\"games\">38</td><td class=\"right\" data-stat=\"wins\">10</td><td class=\"right\" data-stat=\"draws\">9</td><td class=\"right\" data-stat=\"losses\">19</td><td class=\"right\" data-stat=\"goals_for\">49</td><td class=\"right\" data-stat=\"goals_against\">62</td><td class=\"right\" data-stat=\"goal_diff\">-13</td><td class=\"right\" data-stat=\"points\">39</td><td class=\"right\" data-stat=\"xg_for\">46.2</td><td class=\"right\" data-stat=\"xg_against\">61.1</td><td class=\"right\" data-stat=\"xg_diff\">-14.8</td><td class=\"right\" data-stat=\"xg_diff_per90\">-0.39</td><td class=\"right\" csk=\"44155\" data-stat=\"attendance_per_g\">44,155</td><td class=\"right\" csk=\"10\" data-stat=\"top_team_scorers\"><a href=\"/en/players/ac05f970/Michail-Antonio\">Michail Antonio</a> - <span>10</span></td><td class=\"right\" data-stat=\"top_keeper\"><a href=\"/en/players/9328b835/Lukasz-Fabianski\">Łukasz Fabiański</a></td><td class=\"left iz\" data-stat=\"notes\"></td></tr>\n",
       "<tr><th class=\"right\" csk=\"17\" data-stat=\"rank\" scope=\"row\">17</th><td class=\"left\" data-stat=\"squad\"><img alt=\"Club Crest\" height=\"13\" itemscope=\"image\" src=\"https://d2p3bygnnzw9w3.cloudfront.net/req/202012013/tlogo/fb/mini.8602292d.png\" style=\"vertical-align:text-top\" width=\"13\"/> <a href=\"/en/squads/8602292d/2019-2020/Aston-Villa-Stats\">Aston Villa</a></td><td class=\"right\" data-stat=\"games\">38</td><td class=\"right\" data-stat=\"wins\">9</td><td class=\"right\" data-stat=\"draws\">8</td><td class=\"right\" data-stat=\"losses\">21</td><td class=\"right\" data-stat=\"goals_for\">41</td><td class=\"right\" data-stat=\"goals_against\">67</td><td class=\"right\" data-stat=\"goal_diff\">-26</td><td class=\"right\" data-stat=\"points\">35</td><td class=\"right\" data-stat=\"xg_for\">40.1</td><td class=\"right\" data-stat=\"xg_against\">65.9</td><td class=\"right\" data-stat=\"xg_diff\">-25.8</td><td class=\"right\" data-stat=\"xg_diff_per90\">-0.68</td><td class=\"right\" csk=\"28505\" data-stat=\"attendance_per_g\">28,505</td><td class=\"right\" csk=\"8\" data-stat=\"top_team_scorers\"><a href=\"/en/players/b0b4fd3e/Jack-Grealish\">Jack Grealish</a> - <span>8</span></td><td class=\"right\" data-stat=\"top_keeper\"><a href=\"/en/players/a6de6361/Tom-Heaton\">Tom Heaton</a></td><td class=\"left iz\" data-stat=\"notes\"></td></tr>\n",
       "<tr><th class=\"right relegate\" csk=\"18\" data-stat=\"rank\" scope=\"row\">18</th><td class=\"left\" data-stat=\"squad\"><img alt=\"Club Crest\" height=\"13\" itemscope=\"image\" src=\"https://d2p3bygnnzw9w3.cloudfront.net/req/202012013/tlogo/fb/mini.4ba7cbea.png\" style=\"vertical-align:text-top\" width=\"13\"/> <a href=\"/en/squads/4ba7cbea/2019-2020/Bournemouth-Stats\">Bournemouth</a></td><td class=\"right\" data-stat=\"games\">38</td><td class=\"right\" data-stat=\"wins\">9</td><td class=\"right\" data-stat=\"draws\">7</td><td class=\"right\" data-stat=\"losses\">22</td><td class=\"right\" data-stat=\"goals_for\">40</td><td class=\"right\" data-stat=\"goals_against\">65</td><td class=\"right\" data-stat=\"goal_diff\">-25</td><td class=\"right\" data-stat=\"points\">34</td><td class=\"right\" data-stat=\"xg_for\">42.7</td><td class=\"right\" data-stat=\"xg_against\">57.5</td><td class=\"right\" data-stat=\"xg_diff\">-14.8</td><td class=\"right\" data-stat=\"xg_diff_per90\">-0.39</td><td class=\"right\" csk=\"7745\" data-stat=\"attendance_per_g\">7,745</td><td class=\"right\" csk=\"8\" data-stat=\"top_team_scorers\"><a href=\"/en/players/c596fcb0/Callum-Wilson\">Callum Wilson</a> - <span>8</span></td><td class=\"right\" data-stat=\"top_keeper\"><a href=\"/en/players/466fb2c5/Aaron-Ramsdale\">Aaron Ramsdale</a></td><td class=\"left\" data-stat=\"notes\">Relegated</td></tr>\n",
       "<tr><th class=\"right relegate\" csk=\"19\" data-stat=\"rank\" scope=\"row\">19</th><td class=\"left\" data-stat=\"squad\"><img alt=\"Club Crest\" height=\"13\" itemscope=\"image\" src=\"https://d2p3bygnnzw9w3.cloudfront.net/req/202012013/tlogo/fb/mini.2abfe087.png\" style=\"vertical-align:text-top\" width=\"13\"/> <a href=\"/en/squads/2abfe087/2019-2020/Watford-Stats\">Watford</a></td><td class=\"right\" data-stat=\"games\">38</td><td class=\"right\" data-stat=\"wins\">8</td><td class=\"right\" data-stat=\"draws\">10</td><td class=\"right\" data-stat=\"losses\">20</td><td class=\"right\" data-stat=\"goals_for\">36</td><td class=\"right\" data-stat=\"goals_against\">64</td><td class=\"right\" data-stat=\"goal_diff\">-28</td><td class=\"right\" data-stat=\"points\">34</td><td class=\"right\" data-stat=\"xg_for\">45.1</td><td class=\"right\" data-stat=\"xg_against\">57.3</td><td class=\"right\" data-stat=\"xg_diff\">-12.2</td><td class=\"right\" data-stat=\"xg_diff_per90\">-0.32</td><td class=\"right\" csk=\"15353\" data-stat=\"attendance_per_g\">15,353</td><td class=\"right\" csk=\"10\" data-stat=\"top_team_scorers\"><a href=\"/en/players/82e34b69/Troy-Deeney\">Troy Deeney</a> - <span>10</span></td><td class=\"right\" data-stat=\"top_keeper\"><a href=\"/en/players/d0b3ceb9/Ben-Foster\">Ben Foster</a></td><td class=\"left\" data-stat=\"notes\">Relegated</td></tr>\n",
       "<tr><th class=\"right relegate\" csk=\"20\" data-stat=\"rank\" scope=\"row\">20</th><td class=\"left\" data-stat=\"squad\"><img alt=\"Club Crest\" height=\"13\" itemscope=\"image\" src=\"https://d2p3bygnnzw9w3.cloudfront.net/req/202012013/tlogo/fb/mini.1c781004.png\" style=\"vertical-align:text-top\" width=\"13\"/> <a href=\"/en/squads/1c781004/2019-2020/Norwich-City-Stats\">Norwich City</a></td><td class=\"right\" data-stat=\"games\">38</td><td class=\"right\" data-stat=\"wins\">5</td><td class=\"right\" data-stat=\"draws\">6</td><td class=\"right\" data-stat=\"losses\">27</td><td class=\"right\" data-stat=\"goals_for\">26</td><td class=\"right\" data-stat=\"goals_against\">75</td><td class=\"right\" data-stat=\"goal_diff\">-49</td><td class=\"right\" data-stat=\"points\">21</td><td class=\"right\" data-stat=\"xg_for\">38.0</td><td class=\"right\" data-stat=\"xg_against\">61.9</td><td class=\"right\" data-stat=\"xg_diff\">-23.9</td><td class=\"right\" data-stat=\"xg_diff_per90\">-0.63</td><td class=\"right\" csk=\"19913\" data-stat=\"attendance_per_g\">19,913</td><td class=\"right\" csk=\"11\" data-stat=\"top_team_scorers\"><a href=\"/en/players/0745b37d/Teemu-Pukki\">Teemu Pukki</a> - <span>11</span></td><td class=\"right\" data-stat=\"top_keeper\"><a href=\"/en/players/f23f9d20/Tim-Krul\">Tim Krul</a></td><td class=\"left\" data-stat=\"notes\">Relegated</td></tr>\n",
       "</tbody>"
      ]
     },
     "execution_count": 7,
     "metadata": {},
     "output_type": "execute_result"
    }
   ],
   "source": [
    "all_tables = soup.findAll(\"tbody\")\n",
    "team_table = all_tables[0]\n",
    "player_table = all_tables[1]\n",
    "\n",
    "team_table"
   ]
  },
  {
   "cell_type": "code",
   "execution_count": 13,
   "metadata": {},
   "outputs": [],
   "source": [
    "pre_df_squad = dict()\n",
    "features_wanted_squad = {\"players_used\",\"games\"}"
   ]
  },
  {
   "cell_type": "code",
   "execution_count": 21,
   "metadata": {},
   "outputs": [],
   "source": [
    "rows_squad = team_table.find_all('tr')\n",
    "for row in rows_squad:\n",
    "        if(row.find('th',{\"scope\":\"row\"}) != None):\n",
    "            name =  row.find('th',{\"data-stat\":\"squad\"}).text.strip().encode().decode(\"utf-8\")\n",
    "            if 'squad' in pre_df_squad:\n",
    "                pre_df_squad['squad'].append(name)\n",
    "            else:\n",
    "                pre_df_squad['squad'] = [name]\n",
    "            for f in features_wanted_squad:\n",
    "                cell = row.find(\"td\",{\"data-stat\": f})\n",
    "                a = cell.text.strip().encode()\n",
    "                text=a.decode(\"utf-8\")\n",
    "                if f in pre_df_squad:\n",
    "                    pre_df_squad[f].append(text)\n",
    "                else:\n",
    "                    pre_df_squad[f] = [text]"
   ]
  },
  {
   "cell_type": "code",
   "execution_count": 23,
   "metadata": {},
   "outputs": [
    {
     "data": {
      "text/plain": [
       "{'squad': [None,\n",
       "  None,\n",
       "  None,\n",
       "  None,\n",
       "  None,\n",
       "  None,\n",
       "  None,\n",
       "  None,\n",
       "  None,\n",
       "  None,\n",
       "  None,\n",
       "  None,\n",
       "  None,\n",
       "  None,\n",
       "  None,\n",
       "  None,\n",
       "  None,\n",
       "  None,\n",
       "  None,\n",
       "  None,\n",
       "  None,\n",
       "  None],\n",
       " 'players_used': [None,\n",
       "  None,\n",
       "  None,\n",
       "  None,\n",
       "  None,\n",
       "  None,\n",
       "  None,\n",
       "  None,\n",
       "  None,\n",
       "  None,\n",
       "  None,\n",
       "  None,\n",
       "  None,\n",
       "  None,\n",
       "  None,\n",
       "  None,\n",
       "  None,\n",
       "  None,\n",
       "  None,\n",
       "  None],\n",
       " 'games': [<td class=\"right\" data-stat=\"games\">38</td>,\n",
       "  <td class=\"right\" data-stat=\"games\">38</td>,\n",
       "  <td class=\"right\" data-stat=\"games\">38</td>,\n",
       "  <td class=\"right\" data-stat=\"games\">38</td>,\n",
       "  <td class=\"right\" data-stat=\"games\">38</td>,\n",
       "  <td class=\"right\" data-stat=\"games\">38</td>,\n",
       "  <td class=\"right\" data-stat=\"games\">38</td>,\n",
       "  <td class=\"right\" data-stat=\"games\">38</td>,\n",
       "  <td class=\"right\" data-stat=\"games\">38</td>,\n",
       "  <td class=\"right\" data-stat=\"games\">38</td>,\n",
       "  <td class=\"right\" data-stat=\"games\">38</td>,\n",
       "  <td class=\"right\" data-stat=\"games\">38</td>,\n",
       "  <td class=\"right\" data-stat=\"games\">38</td>,\n",
       "  <td class=\"right\" data-stat=\"games\">38</td>,\n",
       "  <td class=\"right\" data-stat=\"games\">38</td>,\n",
       "  <td class=\"right\" data-stat=\"games\">38</td>,\n",
       "  <td class=\"right\" data-stat=\"games\">38</td>,\n",
       "  <td class=\"right\" data-stat=\"games\">38</td>,\n",
       "  <td class=\"right\" data-stat=\"games\">38</td>,\n",
       "  <td class=\"right\" data-stat=\"games\">38</td>]}"
      ]
     },
     "execution_count": 23,
     "metadata": {},
     "output_type": "execute_result"
    }
   ],
   "source": [
    "pre_df_squad"
   ]
  }
 ],
 "metadata": {
  "kernelspec": {
   "display_name": "Python 3",
   "language": "python",
   "name": "python3"
  },
  "language_info": {
   "codemirror_mode": {
    "name": "ipython",
    "version": 3
   },
   "file_extension": ".py",
   "mimetype": "text/x-python",
   "name": "python",
   "nbconvert_exporter": "python",
   "pygments_lexer": "ipython3",
   "version": "3.8.5"
  }
 },
 "nbformat": 4,
 "nbformat_minor": 4
}
